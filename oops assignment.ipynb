{
  "metadata": {
    "kernelspec": {
      "name": "python",
      "display_name": "Python (Pyodide)",
      "language": "python"
    },
    "language_info": {
      "codemirror_mode": {
        "name": "python",
        "version": 3
      },
      "file_extension": ".py",
      "mimetype": "text/x-python",
      "name": "python",
      "nbconvert_exporter": "python",
      "pygments_lexer": "ipython3",
      "version": "3.8"
    }
  },
  "nbformat_minor": 4,
  "nbformat": 4,
  "cells": [
    {
      "cell_type": "raw",
      "source": "ques 1 . What are the five key concepts of Object-Oriented Programming (OOP)?",
      "metadata": {}
    },
    {
      "cell_type": "raw",
      "source": "ans. 1.class and objects\n2. polymorphism\n3.encapsulation\n4. inheritance\n5.data abstraction",
      "metadata": {}
    },
    {
      "cell_type": "raw",
      "source": "ques 2 .. Write a Python class for a `Car` with attributes for `make`, `model`, and `year`. Include a method to display\nthe car's information.",
      "metadata": {}
    },
    {
      "cell_type": "code",
      "source": "class Car:\n    def __init__(self, make, model, year):\n        self.make = make\n        self.model = model\n        self.year = year \n        def extract_details_make_model_year(self):\n            print (self.make_of_car, self.model_name, self.year_name)\n            user1 =(\"tata\", \"suv\", \"2005\")\n            user1.extract_details_make_model_year()",
      "metadata": {
        "trusted": true
      },
      "outputs": [],
      "execution_count": 2
    },
    {
      "cell_type": "raw",
      "source": "ques 3  Explain the difference between instance methods and class methods. Provide an example of each.",
      "metadata": {}
    },
    {
      "cell_type": "raw",
      "source": "ans instance method - need a class instance and can access the instance through self \nclass methods - don't need a class instance. they can't access the instance(self) but they have access to class itself via cls.",
      "metadata": {}
    },
    {
      "cell_type": "code",
      "source": "#example of instance method \nclass Person:\n    def __init__(self, name, age):\n        self.name =name\n        self.age = age\n        def introduce (self):\n            return f\"Hi, i am {self.name}and i am {self.age}years old.\" \n            person1 = Person (\"kishan\", 20)\n            print(person1.introduce()) ",
      "metadata": {
        "trusted": true
      },
      "outputs": [],
      "execution_count": 3
    },
    {
      "cell_type": "code",
      "source": "#Example of class method \nclass MyClass:\n    class_variable = 0\n    def __init__(self, value):\n        self.instance_variable = value\n    @classmethod\n    def class_method(cls, x):\n        cls.class_variable += x\n        return\n        cls.class_variable\n        obj1 = MyClass(5)\n        obj2 = MyClass(10)\n        print(MyClass.class_method(3))",
      "metadata": {
        "trusted": true
      },
      "outputs": [],
      "execution_count": 4
    },
    {
      "cell_type": "raw",
      "source": "4. How does Python implement method overloading? Give an example",
      "metadata": {}
    },
    {
      "cell_type": "raw",
      "source": "ans. it happens in same class on which student method is taking different forms and the last method overloads the previous one.",
      "metadata": {}
    },
    {
      "cell_type": "code",
      "source": "def student (self , name = \" \" , course = \" \"):\n    print(\"welcome to pwskills , name , course\")\n    stud = Student()\n    stud.Student(\"shyam\")",
      "metadata": {
        "trusted": true
      },
      "outputs": [],
      "execution_count": 8
    },
    {
      "cell_type": "raw",
      "source": "5. What are the three types of access modifiers in Python? How are they denoted?",
      "metadata": {}
    },
    {
      "cell_type": "raw",
      "source": "ans. 1) public accessible from anywhere from outside/inside of class\n2) protected within the class and its subclass, protected member can be accessed (__)\n3) private  it is denoted by \"__\"",
      "metadata": {}
    },
    {
      "cell_type": "raw",
      "source": "6. Describe the five types of inheritance in Python. Provide a simple example of multiple inheritance",
      "metadata": {}
    },
    {
      "cell_type": "raw",
      "source": "ans. 1) single inheritance\n2) multiple inheritance\n3)multilevel inheritance\n4) hierarchical inheritance\n5) hybrid inheritance",
      "metadata": {}
    },
    {
      "cell_type": "code",
      "source": "class Mammal:\n    def mammal_info(self):\n        print(\"mammals can give direct birth.\")\n\nclass WingedAnimal:\n    def winged_animal_info(self):\n        print(\"Winged animals can flap.\")\n\nclass Bat(Mammal, WingedAnimal):\n    pass\n\nb1 = Bat()\n\nb1.mammal_info()\nb1.winged_animal_info()",
      "metadata": {
        "trusted": true
      },
      "outputs": [
        {
          "name": "stdout",
          "text": "mammals can give direct birth.\nWinged animals can flap.\n",
          "output_type": "stream"
        }
      ],
      "execution_count": 10
    },
    {
      "cell_type": "raw",
      "source": "7. What is the Method Resolution Order (MRO) in Python? How can you retrieve it programmatically",
      "metadata": {}
    },
    {
      "cell_type": "raw",
      "source": "ans.it denotes the way a programing language resolves a method or attribute. it defines the order in which the base classes are searched when executing a method.",
      "metadata": {}
    },
    {
      "cell_type": "code",
      "source": "class A:\n    def myname(self):\n        print(\"i am a class A\")\n\nclass B(A):\n    def myname(self):\n        print(\"i am a class B\")\n\nclass C(A):\n    def myname(self):\n        print(\"i am a class C\")\n\nc = C()\nprint(c.myname())",
      "metadata": {
        "trusted": true
      },
      "outputs": [
        {
          "name": "stdout",
          "text": "i am a class C\nNone\n",
          "output_type": "stream"
        }
      ],
      "execution_count": 13
    },
    {
      "cell_type": "raw",
      "source": "",
      "metadata": {}
    }
  ]
}